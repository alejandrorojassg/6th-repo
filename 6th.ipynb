{
 "cells": [
  {
   "cell_type": "markdown",
   "metadata": {},
   "source": [
    "<h1>Hi, this is my 6th repo, i am not liking it rn 😭</h1> \n",
    "<h2>but, well it is what it is</h2>\n",
    "-----------"
   ]
  },
  {
   "cell_type": "markdown",
   "metadata": {},
   "source": [
    "<p>Well, so, first one is: </p>"
   ]
  },
  {
   "cell_type": "code",
   "execution_count": null,
   "metadata": {},
   "outputs": [],
   "source": [
    "import math\n",
    "\n",
    "def volumen_esfera(radio):\n",
    "  volumen = (4/3) * math.pi * radio**3\n",
    "  return volumen\n",
    "\n",
    "def area_super_esfera(radio):\n",
    "  area = 4 * math.pi * radio**2\n",
    "  return area\n",
    "\n",
    "def volumen_cono(radio, altura):\n",
    "  volumen = (1/3) * math.pi * radio**2 * altura\n",
    "  return volumen\n",
    "\n",
    "def area_super_cono(radio, altura):\n",
    "  area = math.pi * radio * (radio + math.sqrt(altura**2 + radio**2))\n",
    "  return area\n",
    "\n",
    "radio_esfera = float(input(\"Introduzca el radio de la esfera: \"))\n",
    "\n",
    "volumen_esfera = volumen_esfera(radio_esfera)\n",
    "area_superficial_esfera = area_super_esfera(radio_esfera)\n",
    "\n",
    "radio_cono = float(input(\"Introduzca el radio del cono: \"))\n",
    "altura_cono = float(input(\"Introduzca la altura del cono: \"))\n",
    "\n",
    "volumen_cono = volumen_cono(radio_cono, altura_cono)\n",
    "area_superficial_cono = area_super_cono(radio_cono, altura_cono)\n",
    "\n",
    "print(\"Volumen de la esfera:\", volumen_esfera)\n",
    "print(\"Área superficial de la esfera:\", area_super_esfera)\n",
    "print(\"Volumen del cono:\", volumen_cono)\n",
    "print(\"Área superficial del cono:\", area_super_cono)"
   ]
  },
  {
   "cell_type": "markdown",
   "metadata": {},
   "source": [
    "<p>Second point is: </p>"
   ]
  },
  {
   "cell_type": "code",
   "execution_count": null,
   "metadata": {},
   "outputs": [],
   "source": [
    "def calcular_area_perimetro(a, b):\n",
    "\n",
    "  area_rectangulo = a * b\n",
    "\n",
    "  area_circulo = math.pi * (b / 2)**2\n",
    "\n",
    "  area_total = area_rectangulo + 2 * area_circulo\n",
    "\n",
    "  perimetro_rectangulo = 2 * (a + b)\n",
    "\n",
    "  perimetro_total = perimetro_rectangulo + 2 * 2 * math.pi * (b / 2)\n",
    "\n",
    "  return {\"area\": area_total, \"perimetro\": perimetro_total}\n",
    "\n",
    "def obtener_valores():\n",
    "    \n",
    "  a = float(input(\"Ingrese el lado mayor (lado de la carreta): \"))\n",
    "  b = float(input(\"Ingrese el lado menor (diámetro de las ruedas): \"))\n",
    "\n",
    "  return {\"a\": a, \"b\": b}\n",
    "\n",
    "def calcular_area_perimetro_main():\n",
    "\n",
    "  valores = obtener_valores()\n",
    "  resultado = calcular_area_perimetro(**valores)\n",
    "\n",
    "  print(f\"Área total: {resultado['area']}\")\n",
    "  print(f\"Perímetro total: {resultado['perimetro']}\")\n",
    "\n",
    "if __name__ == \"__main__\":\n",
    "  calcular_area_perimetro_main()"
   ]
  },
  {
   "cell_type": "markdown",
   "metadata": {},
   "source": [
    "<p>Third point: </p>"
   ]
  },
  {
   "cell_type": "code",
   "execution_count": null,
   "metadata": {},
   "outputs": [],
   "source": [
    "def calcular_carne_aves():\n",
    " \n",
    "  N = int(input(\"¿Cuántas gallinas hay?: \"))\n",
    "  M = int(input(\"¿Cuántos gallos hay?: \"))\n",
    "  K = int(input(\"¿Cuántos pollitos hay?: \"))\n",
    "\n",
    "  carne_gallinas = N * 6\n",
    "  carne_gallos = M * 7\n",
    "  carne_pollitos = K * 1\n",
    "  \n",
    "  carne_total = carne_gallinas + carne_gallos + carne_pollitos\n",
    "  \n",
    "  print(f\"Cantidad de carne de aves: {carne_total} kg\")\n",
    "\n",
    "calcular_carne_aves()"
   ]
  },
  {
   "cell_type": "markdown",
   "metadata": {},
   "source": [
    "<p>fourth: </p>"
   ]
  },
  {
   "cell_type": "code",
   "execution_count": null,
   "metadata": {},
   "outputs": [],
   "source": [
    "def calcular_vueltas():\n",
    "  \n",
    "  P = int(input(\"¿Cuántos panes quieres comprar?: \"))\n",
    "  M = int(input(\"¿Cuántas bolsas de leche quieres comprar?: \"))\n",
    "  H = int(input(\"¿Cuántos huevos quieres comprar?: \"))\n",
    "  B = int(input(\"¿De cuánto es el billete que vas a usar?: \"))\n",
    "\n",
    "  costo_panes = P * 300\n",
    "  costo_leche = M * 3300\n",
    "  costo_huevos = H * 350\n",
    "  costo_total = costo_panes + costo_leche + costo_huevos\n",
    "\n",
    "  vueltas = B - costo_total\n",
    "\n",
    "  print(f\"Vueltas: {vueltas}\")\n",
    "\n",
    "calcular_vueltas()"
   ]
  },
  {
   "cell_type": "markdown",
   "metadata": {},
   "source": [
    "<p>fifth 😭</p>"
   ]
  },
  {
   "cell_type": "code",
   "execution_count": null,
   "metadata": {},
   "outputs": [],
   "source": [
    "def calcular_valor_prestamo():\n",
    " \n",
    "  C = float(input(\"¿Cuál es la cantidad del préstamo?: \"))\n",
    "  i = float(input(\"¿Cuál es la tasa de interés mensual?: \"))\n",
    "  n = int(input(\"¿Cuál es el número de meses?: \"))\n",
    "\n",
    "  valor_final = C * (1 + i)**n\n",
    "\n",
    "  print(f\"Valor del préstamo al final del período: {valor_final}\")\n",
    "\n",
    "calcular_valor_prestamo()"
   ]
  },
  {
   "cell_type": "markdown",
   "metadata": {},
   "source": [
    "<p>sixth 🙏🏽</p>"
   ]
  },
  {
   "cell_type": "code",
   "execution_count": null,
   "metadata": {},
   "outputs": [],
   "source": [
    "def calcular_contagiados_covid():\n",
    "\n",
    "  C = int(input(\"¿Cuál es el número actual de personas contagiadas?: \"))\n",
    "  D = int(input(\"¿Cuántos días han pasado?: \"))\n",
    "\n",
    "  total_contagiados = C * 2**D\n",
    "\n",
    "  print(f\"Total de personas contagiadas después de {D} días: {total_contagiados}\")\n",
    "\n",
    "calcular_contagiados_covid()"
   ]
  },
  {
   "cell_type": "markdown",
   "metadata": {},
   "source": [
    "<p>seventh</p>"
   ]
  },
  {
   "cell_type": "code",
   "execution_count": null,
   "metadata": {},
   "outputs": [],
   "source": [
    "def calcular_promedio(numeros):\n",
    "\n",
    "  promedio = sum(numeros) / len(numeros)\n",
    "  return promedio\n",
    "\n",
    "def calcular_mediana(numeros):\n",
    "  \n",
    "  numeros.sort()\n",
    "  mediana = (numeros[len(numeros) // 2] + numeros[len(numeros) // 2 - 1]) / 2\n",
    "  return mediana\n",
    "\n",
    "def calcular_promedio_multiplicativo(numeros):\n",
    "  \n",
    "  producto = 1\n",
    "  for numero in numeros:\n",
    "    producto *= numero\n",
    "  promedio_multiplicativo = producto ** (1 / len(numeros))\n",
    "  return promedio_multiplicativo\n",
    "\n",
    "def ordenar_ascendente(numeros):\n",
    "  \n",
    "  numeros.sort()\n",
    "  return numeros\n",
    "\n",
    "def ordenar_descendente(numeros):\n",
    "  \n",
    "  numeros.sort(reverse=True)\n",
    "  return numeros\n",
    "\n",
    "def calcular_potencia(mayor, menor):\n",
    "  \n",
    "  potencia = mayor ** menor\n",
    "  return potencia\n",
    "\n",
    "def calcular_raiz_cubica(menor):\n",
    "  \n",
    "  raiz_cubica = menor ** (1 / 3)\n",
    "  return raiz_cubica\n",
    "\n",
    "numeros = []\n",
    "for i in range(5):\n",
    "  numero = float(input(f\"Introduzca el número {i + 1}: \"))\n",
    "  numeros.append(numero)\n",
    "\n",
    "promedio = calcular_promedio(numeros)\n",
    "mediana = calcular_mediana(numeros)\n",
    "promedio_multiplicativo = calcular_promedio_multiplicativo(numeros)\n",
    "numeros_ascendentes = ordenar_ascendente(numeros)\n",
    "numeros_descendentes = ordenar_descendente(numeros)\n",
    "mayor = numeros_descendentes[0]\n",
    "menor = numeros_ascendentes[0]\n",
    "potencia = calcular_potencia(mayor, menor)\n",
    "raiz_cubica = calcular_raiz_cubica(menor)\n",
    "\n",
    "print(f\"Promedio: {promedio}\")\n",
    "print(f\"Mediana: {mediana}\")\n",
    "print(f\"Promedio multiplicativo: {promedio_multiplicativo}\")\n",
    "print(f\"Números ordenados de forma ascendente: {numeros_ascendentes}\")\n",
    "print(f\"Números ordenados de forma descendente: {numeros_descendentes}\")\n",
    "print(f\"Potencia del mayor número elevado al menor número: {potencia}\")\n",
    "print(f\"Raíz cúbica del menor número: {raiz_cubica}\")"
   ]
  },
  {
   "cell_type": "markdown",
   "metadata": {},
   "source": [
    "<p>eight one is imported</p>"
   ]
  },
  {
   "cell_type": "markdown",
   "metadata": {},
   "source": [
    "<p>ninth one 😭🙏🏽</p>"
   ]
  },
  {
   "cell_type": "markdown",
   "metadata": {},
   "source": [
    "<h3> \n",
    "Pip es un administrador de paquetes para Python. Se utiliza para instalar, desinstalar y actualizar bibliotecas y frameworks de Python. Pip facilita la gestión de las dependencias de sus proyectos de Python.\n",
    "\n",
    "Pip funciona buscando e instalando paquetes del Índice de Paquetes de Python (PyPI). PyPI es un repositorio central de paquetes de Python disponibles públicamente.\n",
    "</h3>"
   ]
  },
  {
   "cell_type": "markdown",
   "metadata": {},
   "source": [
    "<p>lastttttt</p>"
   ]
  },
  {
   "cell_type": "markdown",
   "metadata": {},
   "source": [
    "1. NumPy: Biblioteca para computación científica con Python. Se utiliza para trabajar con matrices, vectores y otras estructuras de datos.\n",
    "\n",
    "2. Pandas: Biblioteca para análisis de datos. Se utiliza para leer, limpiar, transformar y analizar datos.\n",
    "\n",
    "3. Matplotlib: Biblioteca para visualización de datos. Se utiliza para crear gráficos, diagramas y otras visualizaciones de datos.\n",
    "\n",
    "4. Scikit-learn: Biblioteca para aprendizaje automático. Se utiliza para entrenar y evaluar modelos de aprendizaje automático.\n",
    "\n",
    "5. TensorFlow: Biblioteca para aprendizaje profundo. Se utiliza para crear redes neuronales profundas.\n",
    "\n",
    "6. Django: Framework para desarrollo web con Python. Se utiliza para crear aplicaciones web robustas y escalables.\n",
    "\n",
    "7. Flask: Framework para desarrollo web micro con Python. Se utiliza para crear aplicaciones web simples y ligeras.\n",
    "\n",
    "8. Requests: Biblioteca para realizar peticiones HTTP. Se utiliza para consumir APIs y otros servicios web.\n",
    "\n",
    "9. BeautifulSoup: Biblioteca para analizar documentos HTML. Se utiliza para extraer datos de páginas web.\n",
    "\n",
    "10. Selenium: Biblioteca para automatizar la navegación web. Se utiliza para realizar pruebas automatizadas de aplicaciones web."
   ]
  },
  {
   "cell_type": "markdown",
   "metadata": {},
   "source": [
    "Para instalar un módulo con pip, simplemente ejecute el siguiente comando en la terminal:\n",
    "\n",
    "-----------\n",
    "\n",
    "pip install nombre_del_paquete\n",
    "\n",
    "-----------\n",
    "Por ejemplo, para instalar la biblioteca requests:\n",
    "\n",
    "-----------\n",
    "\n",
    "pip install requests\n",
    "\n",
    "-----------\n",
    "También puede instalar una versión específica de un módulo usando la opción ==:\n",
    "\n",
    "-----------\n",
    "\n",
    "pip install requests==2.27.1\n",
    "\n",
    "-----------\n",
    "Para instalar un módulo desde un archivo local, use la opción -r:\n",
    "\n",
    "-----------\n",
    "\n",
    "pip install -r requirements.txt\n",
    "\n",
    "-----------"
   ]
  }
 ],
 "metadata": {
  "kernelspec": {
   "display_name": "Python 3",
   "language": "python",
   "name": "python3"
  },
  "language_info": {
   "codemirror_mode": {
    "name": "ipython",
    "version": 3
   },
   "file_extension": ".py",
   "mimetype": "text/x-python",
   "name": "python",
   "nbconvert_exporter": "python",
   "pygments_lexer": "ipython3",
   "version": "3.12.2"
  }
 },
 "nbformat": 4,
 "nbformat_minor": 2
}
